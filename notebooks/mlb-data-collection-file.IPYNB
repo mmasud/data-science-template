{
 "metadata": {
  "language_info": {
   "codemirror_mode": {
    "name": "ipython",
    "version": 3
   },
   "file_extension": ".py",
   "mimetype": "text/x-python",
   "name": "python",
   "nbconvert_exporter": "python",
   "pygments_lexer": "ipython3",
   "version": "3.7.7"
  },
  "orig_nbformat": 2,
  "kernelspec": {
   "name": "python377jvsc74a57bd030ac9f6690a0bcb143d50a90b4ccb301a0ef3faf475214ad9c0ca24305173069",
   "display_name": "Python 3.7.7 64-bit ('python': conda)"
  }
 },
 "nbformat": 4,
 "nbformat_minor": 2,
 "cells": [
  {
   "cell_type": "code",
   "execution_count": 2,
   "metadata": {},
   "outputs": [],
   "source": [
    "import os\n",
    "import sys\n",
    "import numpy as np\n",
    "import pandas as pd\n",
    "import matplotlib.pyplot as plt\n",
    "\n",
    "%matplotlib inline"
   ]
  },
  {
   "cell_type": "code",
   "execution_count": 12,
   "metadata": {},
   "outputs": [],
   "source": [
    "# this blog of code allows me to import my secrets file from the conf folder in my \n",
    "# current jupyter notebook\n",
    "root_dir = os.path.join(os.getcwd(), '..')\n",
    "sys.path.append(root_dir)\n",
    "\n",
    "src_dir = os.path.join(os.getcwd(), '..', 'src', 'data' )\n",
    "sys.path.append(src_dir)"
   ]
  },
  {
   "cell_type": "code",
   "execution_count": 10,
   "metadata": {},
   "outputs": [],
   "source": [
    "from make_dataset import *"
   ]
  },
  {
   "cell_type": "code",
   "execution_count": 15,
   "metadata": {},
   "outputs": [],
   "source": [
    "from dotenv import load_dotenv, find_dotenv"
   ]
  },
  {
   "cell_type": "code",
   "execution_count": 22,
   "metadata": {},
   "outputs": [],
   "source": [
    "# find .env automatically by walking up directories until it's found\n",
    "dotenv_path = find_dotenv()\n",
    "# load up the entries as environment variables\n",
    "load_dotenv(dotenv_path)\n",
    "\n",
    "ALPHA_VANTAGE_KEY= os.environ.get(\"ALPHA_VANTAGE_KEY\")\n",
    "# Download data as CSV from API \n",
    "function = 'TIME_SERIES_DAILY_ADJUSTED'\n",
    "symbol = 'MSFT'\n",
    "datatype = 'csv'\n",
    "url = f\"https://www.alphavantage.co/query?function={function}&symbol={symbol}&datatype={datatype}&apikey={ALPHA_VANTAGE_KEY}\"\n",
    "\n",
    "msft_raw = pd.read_csv(url)\n",
    "\n",
    "# before making any changes save this to raw data folder\n",
    "msft_raw.to_csv('../data/raw/msft_raw.csv', index=False)"
   ]
  },
  {
   "cell_type": "code",
   "execution_count": 23,
   "metadata": {},
   "outputs": [
    {
     "output_type": "execute_result",
     "data": {
      "text/plain": [
       "     timestamp     open      high      low   close  adjusted_close    volume  \\\n",
       "0   2021-04-30  249.740  253.0800  249.600  252.18      252.180000  30945098   \n",
       "1   2021-04-29  255.460  256.1000  249.000  252.51      252.510000  40589023   \n",
       "2   2021-04-28  256.078  256.5399  252.950  254.56      254.560000  46903119   \n",
       "3   2021-04-27  261.585  263.1900  260.120  261.97      261.970000  31014213   \n",
       "4   2021-04-26  261.660  262.4350  260.170  261.55      261.550000  19763346   \n",
       "..         ...      ...       ...      ...     ...             ...       ...   \n",
       "95  2020-12-11  210.050  213.3200  209.110  213.26      212.772071  30979440   \n",
       "96  2020-12-10  211.770  213.0800  210.360  210.52      210.038340  26467017   \n",
       "97  2020-12-09  215.160  215.2250  211.214  211.80      211.315411  32440603   \n",
       "98  2020-12-08  213.970  216.9500  212.890  216.01      215.515779  23284094   \n",
       "99  2020-12-07  214.370  215.5400  212.990  214.29      213.799714  24619997   \n",
       "\n",
       "    dividend_amount  split_coefficient  \n",
       "0               0.0                1.0  \n",
       "1               0.0                1.0  \n",
       "2               0.0                1.0  \n",
       "3               0.0                1.0  \n",
       "4               0.0                1.0  \n",
       "..              ...                ...  \n",
       "95              0.0                1.0  \n",
       "96              0.0                1.0  \n",
       "97              0.0                1.0  \n",
       "98              0.0                1.0  \n",
       "99              0.0                1.0  \n",
       "\n",
       "[100 rows x 9 columns]"
      ],
      "text/html": "<div>\n<style scoped>\n    .dataframe tbody tr th:only-of-type {\n        vertical-align: middle;\n    }\n\n    .dataframe tbody tr th {\n        vertical-align: top;\n    }\n\n    .dataframe thead th {\n        text-align: right;\n    }\n</style>\n<table border=\"1\" class=\"dataframe\">\n  <thead>\n    <tr style=\"text-align: right;\">\n      <th></th>\n      <th>timestamp</th>\n      <th>open</th>\n      <th>high</th>\n      <th>low</th>\n      <th>close</th>\n      <th>adjusted_close</th>\n      <th>volume</th>\n      <th>dividend_amount</th>\n      <th>split_coefficient</th>\n    </tr>\n  </thead>\n  <tbody>\n    <tr>\n      <th>0</th>\n      <td>2021-04-30</td>\n      <td>249.740</td>\n      <td>253.0800</td>\n      <td>249.600</td>\n      <td>252.18</td>\n      <td>252.180000</td>\n      <td>30945098</td>\n      <td>0.0</td>\n      <td>1.0</td>\n    </tr>\n    <tr>\n      <th>1</th>\n      <td>2021-04-29</td>\n      <td>255.460</td>\n      <td>256.1000</td>\n      <td>249.000</td>\n      <td>252.51</td>\n      <td>252.510000</td>\n      <td>40589023</td>\n      <td>0.0</td>\n      <td>1.0</td>\n    </tr>\n    <tr>\n      <th>2</th>\n      <td>2021-04-28</td>\n      <td>256.078</td>\n      <td>256.5399</td>\n      <td>252.950</td>\n      <td>254.56</td>\n      <td>254.560000</td>\n      <td>46903119</td>\n      <td>0.0</td>\n      <td>1.0</td>\n    </tr>\n    <tr>\n      <th>3</th>\n      <td>2021-04-27</td>\n      <td>261.585</td>\n      <td>263.1900</td>\n      <td>260.120</td>\n      <td>261.97</td>\n      <td>261.970000</td>\n      <td>31014213</td>\n      <td>0.0</td>\n      <td>1.0</td>\n    </tr>\n    <tr>\n      <th>4</th>\n      <td>2021-04-26</td>\n      <td>261.660</td>\n      <td>262.4350</td>\n      <td>260.170</td>\n      <td>261.55</td>\n      <td>261.550000</td>\n      <td>19763346</td>\n      <td>0.0</td>\n      <td>1.0</td>\n    </tr>\n    <tr>\n      <th>...</th>\n      <td>...</td>\n      <td>...</td>\n      <td>...</td>\n      <td>...</td>\n      <td>...</td>\n      <td>...</td>\n      <td>...</td>\n      <td>...</td>\n      <td>...</td>\n    </tr>\n    <tr>\n      <th>95</th>\n      <td>2020-12-11</td>\n      <td>210.050</td>\n      <td>213.3200</td>\n      <td>209.110</td>\n      <td>213.26</td>\n      <td>212.772071</td>\n      <td>30979440</td>\n      <td>0.0</td>\n      <td>1.0</td>\n    </tr>\n    <tr>\n      <th>96</th>\n      <td>2020-12-10</td>\n      <td>211.770</td>\n      <td>213.0800</td>\n      <td>210.360</td>\n      <td>210.52</td>\n      <td>210.038340</td>\n      <td>26467017</td>\n      <td>0.0</td>\n      <td>1.0</td>\n    </tr>\n    <tr>\n      <th>97</th>\n      <td>2020-12-09</td>\n      <td>215.160</td>\n      <td>215.2250</td>\n      <td>211.214</td>\n      <td>211.80</td>\n      <td>211.315411</td>\n      <td>32440603</td>\n      <td>0.0</td>\n      <td>1.0</td>\n    </tr>\n    <tr>\n      <th>98</th>\n      <td>2020-12-08</td>\n      <td>213.970</td>\n      <td>216.9500</td>\n      <td>212.890</td>\n      <td>216.01</td>\n      <td>215.515779</td>\n      <td>23284094</td>\n      <td>0.0</td>\n      <td>1.0</td>\n    </tr>\n    <tr>\n      <th>99</th>\n      <td>2020-12-07</td>\n      <td>214.370</td>\n      <td>215.5400</td>\n      <td>212.990</td>\n      <td>214.29</td>\n      <td>213.799714</td>\n      <td>24619997</td>\n      <td>0.0</td>\n      <td>1.0</td>\n    </tr>\n  </tbody>\n</table>\n<p>100 rows × 9 columns</p>\n</div>"
     },
     "metadata": {},
     "execution_count": 23
    }
   ],
   "source": [
    "msft_raw"
   ]
  },
  {
   "cell_type": "code",
   "execution_count": 26,
   "metadata": {},
   "outputs": [],
   "source": [
    "from src.utils.utility import *"
   ]
  },
  {
   "cell_type": "code",
   "execution_count": 27,
   "metadata": {},
   "outputs": [
    {
     "output_type": "execute_result",
     "data": {
      "text/plain": [
       "     timestamp     open      high      low   close  adjusted_close    volume  \\\n",
       "0   2021-04-30  249.740  253.0800  249.600  252.18      252.180000  30945098   \n",
       "1   2021-04-29  255.460  256.1000  249.000  252.51      252.510000  40589023   \n",
       "2   2021-04-28  256.078  256.5399  252.950  254.56      254.560000  46903119   \n",
       "3   2021-04-27  261.585  263.1900  260.120  261.97      261.970000  31014213   \n",
       "4   2021-04-26  261.660  262.4350  260.170  261.55      261.550000  19763346   \n",
       "..         ...      ...       ...      ...     ...             ...       ...   \n",
       "95  2020-12-11  210.050  213.3200  209.110  213.26      212.772071  30979440   \n",
       "96  2020-12-10  211.770  213.0800  210.360  210.52      210.038340  26467017   \n",
       "97  2020-12-09  215.160  215.2250  211.214  211.80      211.315411  32440603   \n",
       "98  2020-12-08  213.970  216.9500  212.890  216.01      215.515779  23284094   \n",
       "99  2020-12-07  214.370  215.5400  212.990  214.29      213.799714  24619997   \n",
       "\n",
       "    dividend_amount  split_coefficient  \n",
       "0               0.0                1.0  \n",
       "1               0.0                1.0  \n",
       "2               0.0                1.0  \n",
       "3               0.0                1.0  \n",
       "4               0.0                1.0  \n",
       "..              ...                ...  \n",
       "95              0.0                1.0  \n",
       "96              0.0                1.0  \n",
       "97              0.0                1.0  \n",
       "98              0.0                1.0  \n",
       "99              0.0                1.0  \n",
       "\n",
       "[100 rows x 9 columns]"
      ],
      "text/html": "<div>\n<style scoped>\n    .dataframe tbody tr th:only-of-type {\n        vertical-align: middle;\n    }\n\n    .dataframe tbody tr th {\n        vertical-align: top;\n    }\n\n    .dataframe thead th {\n        text-align: right;\n    }\n</style>\n<table border=\"1\" class=\"dataframe\">\n  <thead>\n    <tr style=\"text-align: right;\">\n      <th></th>\n      <th>timestamp</th>\n      <th>open</th>\n      <th>high</th>\n      <th>low</th>\n      <th>close</th>\n      <th>adjusted_close</th>\n      <th>volume</th>\n      <th>dividend_amount</th>\n      <th>split_coefficient</th>\n    </tr>\n  </thead>\n  <tbody>\n    <tr>\n      <th>0</th>\n      <td>2021-04-30</td>\n      <td>249.740</td>\n      <td>253.0800</td>\n      <td>249.600</td>\n      <td>252.18</td>\n      <td>252.180000</td>\n      <td>30945098</td>\n      <td>0.0</td>\n      <td>1.0</td>\n    </tr>\n    <tr>\n      <th>1</th>\n      <td>2021-04-29</td>\n      <td>255.460</td>\n      <td>256.1000</td>\n      <td>249.000</td>\n      <td>252.51</td>\n      <td>252.510000</td>\n      <td>40589023</td>\n      <td>0.0</td>\n      <td>1.0</td>\n    </tr>\n    <tr>\n      <th>2</th>\n      <td>2021-04-28</td>\n      <td>256.078</td>\n      <td>256.5399</td>\n      <td>252.950</td>\n      <td>254.56</td>\n      <td>254.560000</td>\n      <td>46903119</td>\n      <td>0.0</td>\n      <td>1.0</td>\n    </tr>\n    <tr>\n      <th>3</th>\n      <td>2021-04-27</td>\n      <td>261.585</td>\n      <td>263.1900</td>\n      <td>260.120</td>\n      <td>261.97</td>\n      <td>261.970000</td>\n      <td>31014213</td>\n      <td>0.0</td>\n      <td>1.0</td>\n    </tr>\n    <tr>\n      <th>4</th>\n      <td>2021-04-26</td>\n      <td>261.660</td>\n      <td>262.4350</td>\n      <td>260.170</td>\n      <td>261.55</td>\n      <td>261.550000</td>\n      <td>19763346</td>\n      <td>0.0</td>\n      <td>1.0</td>\n    </tr>\n    <tr>\n      <th>...</th>\n      <td>...</td>\n      <td>...</td>\n      <td>...</td>\n      <td>...</td>\n      <td>...</td>\n      <td>...</td>\n      <td>...</td>\n      <td>...</td>\n      <td>...</td>\n    </tr>\n    <tr>\n      <th>95</th>\n      <td>2020-12-11</td>\n      <td>210.050</td>\n      <td>213.3200</td>\n      <td>209.110</td>\n      <td>213.26</td>\n      <td>212.772071</td>\n      <td>30979440</td>\n      <td>0.0</td>\n      <td>1.0</td>\n    </tr>\n    <tr>\n      <th>96</th>\n      <td>2020-12-10</td>\n      <td>211.770</td>\n      <td>213.0800</td>\n      <td>210.360</td>\n      <td>210.52</td>\n      <td>210.038340</td>\n      <td>26467017</td>\n      <td>0.0</td>\n      <td>1.0</td>\n    </tr>\n    <tr>\n      <th>97</th>\n      <td>2020-12-09</td>\n      <td>215.160</td>\n      <td>215.2250</td>\n      <td>211.214</td>\n      <td>211.80</td>\n      <td>211.315411</td>\n      <td>32440603</td>\n      <td>0.0</td>\n      <td>1.0</td>\n    </tr>\n    <tr>\n      <th>98</th>\n      <td>2020-12-08</td>\n      <td>213.970</td>\n      <td>216.9500</td>\n      <td>212.890</td>\n      <td>216.01</td>\n      <td>215.515779</td>\n      <td>23284094</td>\n      <td>0.0</td>\n      <td>1.0</td>\n    </tr>\n    <tr>\n      <th>99</th>\n      <td>2020-12-07</td>\n      <td>214.370</td>\n      <td>215.5400</td>\n      <td>212.990</td>\n      <td>214.29</td>\n      <td>213.799714</td>\n      <td>24619997</td>\n      <td>0.0</td>\n      <td>1.0</td>\n    </tr>\n  </tbody>\n</table>\n<p>100 rows × 9 columns</p>\n</div>"
     },
     "metadata": {},
     "execution_count": 27
    }
   ],
   "source": [
    "alphavantage_api_csv_download_raw(function=\"TIME_SERIES_DAILY_ADJUSTED\", symbol=\"MSFT\", alphavantage_api_key=\"ALPHA_VANTAGE_KEY\")"
   ]
  },
  {
   "cell_type": "code",
   "execution_count": 30,
   "metadata": {},
   "outputs": [
    {
     "output_type": "execute_result",
     "data": {
      "text/plain": [
       "    timestamp     open      high     low   close  adjusted_close    volume  \\\n",
       "0  2021-04-30  249.740  253.0800  249.60  252.18          252.18  30945098   \n",
       "1  2021-04-29  255.460  256.1000  249.00  252.51          252.51  40589023   \n",
       "2  2021-04-28  256.078  256.5399  252.95  254.56          254.56  46903119   \n",
       "3  2021-04-27  261.585  263.1900  260.12  261.97          261.97  31014213   \n",
       "4  2021-04-26  261.660  262.4350  260.17  261.55          261.55  19763346   \n",
       "\n",
       "   dividend_amount  split_coefficient  \n",
       "0              0.0                1.0  \n",
       "1              0.0                1.0  \n",
       "2              0.0                1.0  \n",
       "3              0.0                1.0  \n",
       "4              0.0                1.0  "
      ],
      "text/html": "<div>\n<style scoped>\n    .dataframe tbody tr th:only-of-type {\n        vertical-align: middle;\n    }\n\n    .dataframe tbody tr th {\n        vertical-align: top;\n    }\n\n    .dataframe thead th {\n        text-align: right;\n    }\n</style>\n<table border=\"1\" class=\"dataframe\">\n  <thead>\n    <tr style=\"text-align: right;\">\n      <th></th>\n      <th>timestamp</th>\n      <th>open</th>\n      <th>high</th>\n      <th>low</th>\n      <th>close</th>\n      <th>adjusted_close</th>\n      <th>volume</th>\n      <th>dividend_amount</th>\n      <th>split_coefficient</th>\n    </tr>\n  </thead>\n  <tbody>\n    <tr>\n      <th>0</th>\n      <td>2021-04-30</td>\n      <td>249.740</td>\n      <td>253.0800</td>\n      <td>249.60</td>\n      <td>252.18</td>\n      <td>252.18</td>\n      <td>30945098</td>\n      <td>0.0</td>\n      <td>1.0</td>\n    </tr>\n    <tr>\n      <th>1</th>\n      <td>2021-04-29</td>\n      <td>255.460</td>\n      <td>256.1000</td>\n      <td>249.00</td>\n      <td>252.51</td>\n      <td>252.51</td>\n      <td>40589023</td>\n      <td>0.0</td>\n      <td>1.0</td>\n    </tr>\n    <tr>\n      <th>2</th>\n      <td>2021-04-28</td>\n      <td>256.078</td>\n      <td>256.5399</td>\n      <td>252.95</td>\n      <td>254.56</td>\n      <td>254.56</td>\n      <td>46903119</td>\n      <td>0.0</td>\n      <td>1.0</td>\n    </tr>\n    <tr>\n      <th>3</th>\n      <td>2021-04-27</td>\n      <td>261.585</td>\n      <td>263.1900</td>\n      <td>260.12</td>\n      <td>261.97</td>\n      <td>261.97</td>\n      <td>31014213</td>\n      <td>0.0</td>\n      <td>1.0</td>\n    </tr>\n    <tr>\n      <th>4</th>\n      <td>2021-04-26</td>\n      <td>261.660</td>\n      <td>262.4350</td>\n      <td>260.17</td>\n      <td>261.55</td>\n      <td>261.55</td>\n      <td>19763346</td>\n      <td>0.0</td>\n      <td>1.0</td>\n    </tr>\n  </tbody>\n</table>\n</div>"
     },
     "metadata": {},
     "execution_count": 30
    }
   ],
   "source": [
    "# import data from 'data/raw' data folder into the processing notebook\n",
    "msft_proc= pd.read_csv(os.path.join(os.getcwd(), '..', 'data/raw/msft_raw.csv'))\n",
    "# Let's take a look at our dataset\n",
    "msft_proc.head()"
   ]
  },
  {
   "cell_type": "code",
   "execution_count": 31,
   "metadata": {},
   "outputs": [],
   "source": [
    "# Build features"
   ]
  },
  {
   "cell_type": "code",
   "execution_count": null,
   "metadata": {},
   "outputs": [],
   "source": []
  }
 ]
}